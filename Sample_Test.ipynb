{
 "cells": [
  {
   "cell_type": "markdown",
   "metadata": {},
   "source": [
    "H0: Marriage age of male in india is 30\n",
    "Ha: Marriage age of male in india is not 30\n",
    "30 is hypothesis mean in this research"
   ]
  },
  {
   "cell_type": "code",
   "execution_count": 9,
   "metadata": {},
   "outputs": [
    {
     "name": "stdout",
     "output_type": "stream",
     "text": [
      "skew: -0.3175592491825672\n",
      "kurtosis: -0.07956171332882622\n"
     ]
    }
   ],
   "source": [
    "mrg_age_india = [32,28,25,29,31,32,33,32,35,32,37]\n",
    "print('skew:',stats.skew(mrg_age_india))\n",
    "print('kurtosis:',stats.kurtosis(mrg_age_india))"
   ]
  },
  {
   "cell_type": "markdown",
   "metadata": {},
   "source": [
    "# One Sample Test"
   ]
  },
  {
   "cell_type": "code",
   "execution_count": 10,
   "metadata": {},
   "outputs": [
    {
     "data": {
      "text/plain": [
       "Ttest_1sampResult(statistic=1.4766784404041187, pvalue=0.17054578472437254)"
      ]
     },
     "execution_count": 10,
     "metadata": {},
     "output_type": "execute_result"
    }
   ],
   "source": [
    "from scipy import stats\n",
    "stats.ttest_1samp(mrg_age_india,30)"
   ]
  },
  {
   "cell_type": "markdown",
   "metadata": {},
   "source": [
    "# Two sample independent TTest"
   ]
  },
  {
   "cell_type": "code",
   "execution_count": 11,
   "metadata": {},
   "outputs": [],
   "source": [
    "mrg_age_india = [32,28,25,29,31,32,33,32,35,32,35,32,37]\n",
    "mrg_age_USA = [34,36,39,40,37,35,38,42,38,28,29]"
   ]
  },
  {
   "cell_type": "code",
   "execution_count": 12,
   "metadata": {},
   "outputs": [
    {
     "data": {
      "text/plain": [
       "(-0.48454584826633434,\n",
       " -0.694789631109905,\n",
       " 0.09243169569856713,\n",
       " -0.4541647804436395)"
      ]
     },
     "execution_count": 12,
     "metadata": {},
     "output_type": "execute_result"
    }
   ],
   "source": [
    "stats.skew(mrg_age_india),stats.skew(mrg_age_USA),stats.kurtosis(mrg_age_india),stats.kurtosis(mrg_age_USA)"
   ]
  },
  {
   "cell_type": "markdown",
   "metadata": {},
   "source": [
    " H0: Marriage age of male in india and USA are same\n",
    "Ha: Marriage age of male in india are not same"
   ]
  },
  {
   "cell_type": "code",
   "execution_count": 13,
   "metadata": {},
   "outputs": [
    {
     "data": {
      "text/plain": [
       "Ttest_indResult(statistic=-2.7676688371076597, pvalue=0.011229004789432328)"
      ]
     },
     "execution_count": 13,
     "metadata": {},
     "output_type": "execute_result"
    }
   ],
   "source": [
    "stats.ttest_ind(mrg_age_india,mrg_age_USA)"
   ]
  },
  {
   "cell_type": "code",
   "execution_count": 15,
   "metadata": {},
   "outputs": [],
   "source": [
    "before_rb = [45,53,66,42,57] #response time in centisecs\n",
    "after_rb = [35,42,35,36,32]"
   ]
  },
  {
   "cell_type": "markdown",
   "metadata": {},
   "source": [
    " H0: Response time before and after redd bull are same\n",
    "Ha: Response time before and after redd bull are not same"
   ]
  },
  {
   "cell_type": "code",
   "execution_count": 17,
   "metadata": {},
   "outputs": [
    {
     "data": {
      "text/plain": [
       "Ttest_relResult(statistic=3.4419395040356395, pvalue=0.026247132919799084)"
      ]
     },
     "execution_count": 17,
     "metadata": {},
     "output_type": "execute_result"
    }
   ],
   "source": [
    "stats.ttest_rel(before_rb,after_rb,)"
   ]
  },
  {
   "cell_type": "markdown",
   "metadata": {},
   "source": [
    "# ANOVA Test Analaysis of variance"
   ]
  },
  {
   "cell_type": "code",
   "execution_count": 20,
   "metadata": {},
   "outputs": [],
   "source": [
    "lemon = [36,12,46,10,15,20]\n",
    "coffee = [33,10,38,12,13,19]\n",
    "rb = [31,9,39,13,10,15]"
   ]
  },
  {
   "cell_type": "markdown",
   "metadata": {},
   "source": [
    "H0 : All drinks response time are same\n",
    "Ha : All drinks response time are not same"
   ]
  },
  {
   "cell_type": "code",
   "execution_count": 22,
   "metadata": {},
   "outputs": [
    {
     "data": {
      "text/plain": [
       "F_onewayResult(statistic=0.12208729898260585, pvalue=0.8859415816548135)"
      ]
     },
     "execution_count": 22,
     "metadata": {},
     "output_type": "execute_result"
    }
   ],
   "source": [
    "stats.f_oneway(lemon,coffee,rb)"
   ]
  },
  {
   "cell_type": "code",
   "execution_count": null,
   "metadata": {},
   "outputs": [],
   "source": []
  }
 ],
 "metadata": {
  "kernelspec": {
   "display_name": "Python 3",
   "language": "python",
   "name": "python3"
  },
  "language_info": {
   "codemirror_mode": {
    "name": "ipython",
    "version": 3
   },
   "file_extension": ".py",
   "mimetype": "text/x-python",
   "name": "python",
   "nbconvert_exporter": "python",
   "pygments_lexer": "ipython3",
   "version": "3.7.4"
  }
 },
 "nbformat": 4,
 "nbformat_minor": 2
}
