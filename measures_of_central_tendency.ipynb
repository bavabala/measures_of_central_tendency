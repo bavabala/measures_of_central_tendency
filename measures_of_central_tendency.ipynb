{
 "cells": [
  {
   "cell_type": "code",
   "execution_count": 1,
   "metadata": {},
   "outputs": [],
   "source": [
    "org_a = [40,60,80,120,55,40,60,55,34,55,100]\n",
    "org_b = [60,80,30,130,35,50,30,60,42,35,50]"
   ]
  },
  {
   "cell_type": "code",
   "execution_count": 2,
   "metadata": {},
   "outputs": [
    {
     "name": "stdout",
     "output_type": "stream",
     "text": [
      "Mean salary of org_a : 63.54545454545455\n",
      "Mean salary of org_b : 54.72727272727273\n"
     ]
    }
   ],
   "source": [
    "import scipy as sp\n",
    "print(\"Mean salary of org_a :\", sp.mean(org_a))\n",
    "print(\"Mean salary of org_b :\", sp.mean(org_b))"
   ]
  },
  {
   "cell_type": "code",
   "execution_count": 3,
   "metadata": {},
   "outputs": [],
   "source": [
    "org_a = [40,60,80,120,55,40,60,55,34,55,100]\n",
    "org_b = [60,80,30,130,35,50,30,60,42,35,50,1000]"
   ]
  },
  {
   "cell_type": "code",
   "execution_count": 4,
   "metadata": {},
   "outputs": [
    {
     "name": "stdout",
     "output_type": "stream",
     "text": [
      "Mean salary of org_a : 63.54545454545455\n",
      "Mean salary of org_b : 133.5\n"
     ]
    }
   ],
   "source": [
    "print(\"Mean salary of org_a :\", sp.mean(org_a))\n",
    "print(\"Mean salary of org_b :\", sp.mean(org_b))"
   ]
  },
  {
   "cell_type": "code",
   "execution_count": 5,
   "metadata": {},
   "outputs": [
    {
     "name": "stdout",
     "output_type": "stream",
     "text": [
      "Median salary of org_a : 55.0\n",
      "Median salary of org_b : 50.0\n"
     ]
    }
   ],
   "source": [
    "print(\"Median salary of org_a :\", sp.median(org_a))\n",
    "print(\"Median salary of org_b :\", sp.median(org_b)) # median is also called second quartile,recommended for extreme values"
   ]
  },
  {
   "cell_type": "code",
   "execution_count": 6,
   "metadata": {},
   "outputs": [],
   "source": [
    "from scipy import stats"
   ]
  },
  {
   "cell_type": "code",
   "execution_count": 8,
   "metadata": {},
   "outputs": [
    {
     "name": "stdout",
     "output_type": "stream",
     "text": [
      "Mode salary of org_a : ModeResult(mode=array([55]), count=array([3]))\n",
      "Mode salary of org_b : ModeResult(mode=array([30]), count=array([2]))\n"
     ]
    }
   ],
   "source": [
    "print(\"Mode salary of org_a :\", stats.mode(org_a))\n",
    "print(\"Mode salary of org_b :\", stats.mode(org_b)) # Mode is highest frequency in the distribution"
   ]
  },
  {
   "cell_type": "code",
   "execution_count": null,
   "metadata": {},
   "outputs": [],
   "source": []
  }
 ],
 "metadata": {
  "kernelspec": {
   "display_name": "Python 3",
   "language": "python",
   "name": "python3"
  },
  "language_info": {
   "codemirror_mode": {
    "name": "ipython",
    "version": 3
   },
   "file_extension": ".py",
   "mimetype": "text/x-python",
   "name": "python",
   "nbconvert_exporter": "python",
   "pygments_lexer": "ipython3",
   "version": "3.7.4"
  }
 },
 "nbformat": 4,
 "nbformat_minor": 2
}
